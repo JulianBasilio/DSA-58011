{
  "cells": [
    {
      "cell_type": "markdown",
      "metadata": {
        "id": "view-in-github",
        "colab_type": "text"
      },
      "source": [
        "<a href=\"https://colab.research.google.com/github/JulianBasilio/DSA-58011/blob/main/Activity_2.ipynb\" target=\"_parent\"><img src=\"https://colab.research.google.com/assets/colab-badge.svg\" alt=\"Open In Colab\"/></a>"
      ]
    },
    {
      "cell_type": "code",
      "execution_count": 29,
      "metadata": {
        "colab": {
          "base_uri": "https://localhost:8080/"
        },
        "id": "YsyyHN7hjm9l",
        "outputId": "1ae4447a-f827-496a-f257-eb4f85a35947"
      },
      "outputs": [
        {
          "output_type": "stream",
          "name": "stdout",
          "text": [
            "a\n",
            "e\n",
            "i\n",
            "o\n",
            "u\n"
          ]
        }
      ],
      "source": [
        "class Node:\n",
        "    def __init__(self, data=None):\n",
        "        self.data = data\n",
        "        self.next = None\n",
        "class linked_list:\n",
        "    def __init__(self):\n",
        "        self.tail = None\n",
        "        self.head = None\n",
        "        self.count = 0\n",
        "\n",
        "    def iterate_item(self):\n",
        "        current_item = self.tail\n",
        "        while current_item:\n",
        "            val = current_item.data\n",
        "            current_item = current_item.next\n",
        "            yield val\n",
        "\n",
        "    def append_item(self, data):\n",
        "        node = Node(data)\n",
        "        if self.head:\n",
        "            self.head.next = node\n",
        "            self.head = node\n",
        "        else:\n",
        "            self.tail = node\n",
        "            self.head = node\n",
        "        self.count += 1\n",
        "\n",
        "vowel = linked_list()\n",
        "vowel.append_item('a')\n",
        "vowel.append_item('e')\n",
        "vowel.append_item('i')\n",
        "vowel.append_item('o')\n",
        "vowel.append_item('u')\n",
        "\n",
        "for val in vowel.iterate_item():\n",
        "    print(val)"
      ]
    },
    {
      "cell_type": "code",
      "execution_count": null,
      "metadata": {
        "id": "C4vACKzUqeM5"
      },
      "outputs": [],
      "source": []
    }
  ],
  "metadata": {
    "colab": {
      "provenance": [],
      "authorship_tag": "ABX9TyMoNQzojlKD6IogGH5IwYQs",
      "include_colab_link": true
    },
    "kernelspec": {
      "display_name": "Python 3",
      "name": "python3"
    },
    "language_info": {
      "name": "python"
    }
  },
  "nbformat": 4,
  "nbformat_minor": 0
}