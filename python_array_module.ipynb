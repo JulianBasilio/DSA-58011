{
  "nbformat": 4,
  "nbformat_minor": 0,
  "metadata": {
    "colab": {
      "provenance": [],
      "authorship_tag": "ABX9TyOKpF1cmIV4i9Iv5aLEbwiU",
      "include_colab_link": true
    },
    "kernelspec": {
      "name": "python3",
      "display_name": "Python 3"
    },
    "language_info": {
      "name": "python"
    }
  },
  "cells": [
    {
      "cell_type": "markdown",
      "metadata": {
        "id": "view-in-github",
        "colab_type": "text"
      },
      "source": [
        "<a href=\"https://colab.research.google.com/github/JulianBasilio/DSA-58011/blob/main/python_array_module.ipynb\" target=\"_parent\"><img src=\"https://colab.research.google.com/assets/colab-badge.svg\" alt=\"Open In Colab\"/></a>"
      ]
    },
    {
      "cell_type": "code",
      "execution_count": 1,
      "metadata": {
        "colab": {
          "base_uri": "https://localhost:8080/"
        },
        "id": "PWny9VKKB-uh",
        "outputId": "0034b282-22dd-4b05-ed0f-37c16b2832bd"
      },
      "outputs": [
        {
          "output_type": "stream",
          "name": "stdout",
          "text": [
            "i\n",
            "f\n"
          ]
        }
      ],
      "source": [
        "import array\n",
        "array.typecodes #get all type codes\n",
        "a=array.array('i',[1,2,3,4,5,6])#initializing array a\n",
        "b=array.array('f',[1.5,2.5,3.5,4.5,5.5,6.5])#initializing array b\n",
        "\n",
        "print(a.typecode)\n",
        "print(b.typecode)"
      ]
    },
    {
      "cell_type": "markdown",
      "source": [
        "Example 2\n",
        "Create array elements of array name a to float/decimal numbers\n"
      ],
      "metadata": {
        "id": "TzR8kv8uJV4j"
      }
    },
    {
      "cell_type": "code",
      "source": [
        "a = array.array('f',[1,2,3,4,5,6,7,8,9,10])\n",
        "print(a)"
      ],
      "metadata": {
        "colab": {
          "base_uri": "https://localhost:8080/"
        },
        "id": "RxblsftgJX3r",
        "outputId": "791939e4-c5c8-4e3d-c65d-35025c73c5b3"
      },
      "execution_count": 10,
      "outputs": [
        {
          "output_type": "stream",
          "name": "stdout",
          "text": [
            "array('f', [1.0, 2.0, 3.0, 4.0, 5.0, 6.0, 7.0, 8.0, 9.0, 10.0])\n"
          ]
        }
      ]
    },
    {
      "cell_type": "markdown",
      "source": [
        "Insert an element: 11 to the first index of the array a"
      ],
      "metadata": {
        "id": "nJ_XM3M9J5vG"
      }
    },
    {
      "cell_type": "code",
      "source": [
        "a.insert(0,11)\n",
        "print(a)\n",
        "b[-1]\n",
        "print(b)\n"
      ],
      "metadata": {
        "colab": {
          "base_uri": "https://localhost:8080/"
        },
        "id": "4CFEfn9TI5XL",
        "outputId": "3c88b741-3b4f-4791-f8f5-dac8bbe2c466"
      },
      "execution_count": 11,
      "outputs": [
        {
          "output_type": "stream",
          "name": "stdout",
          "text": [
            "array('f', [11.0, 1.0, 2.0, 3.0, 4.0, 5.0, 6.0, 7.0, 8.0, 9.0, 10.0])\n",
            "array('f', [1.5, 2.5, 3.5, 4.5, 5.5, 6.5])\n"
          ]
        }
      ]
    },
    {
      "cell_type": "markdown",
      "source": [
        "linked list"
      ],
      "metadata": {
        "id": "mI3rBifkTVEO"
      }
    },
    {
      "cell_type": "code",
      "source": [
        "class Node:\n",
        "  def __init__(self,data):\n",
        "    self.data=data\n",
        "    self.next=None\n",
        "  \n",
        "class LinkedList:\n",
        "  def __init__(self):\n",
        "    self.head=None\n",
        "  def printself(self):\n",
        "    temp = self.head\n",
        "    while(temp):\n",
        "      print(temp.data)\n",
        "      temp=temp.next\n",
        "\n",
        "\n",
        "llist = LinkedList()\n",
        "llist.head = Node(1)\n",
        "second = Node(2)\n",
        "third = Node(3)\n",
        "\n",
        "llist.head.next = second\n",
        "second.next = third\n",
        "\n",
        "llist.printList()"
      ],
      "metadata": {
        "colab": {
          "base_uri": "https://localhost:8080/",
          "height": 200
        },
        "id": "V-xUjpStTbYr",
        "outputId": "3e8fcb0b-a6c4-4673-a662-b833d019ff8e"
      },
      "execution_count": 35,
      "outputs": [
        {
          "output_type": "error",
          "ename": "AttributeError",
          "evalue": "ignored",
          "traceback": [
            "\u001b[0;31m---------------------------------------------------------------------------\u001b[0m",
            "\u001b[0;31mAttributeError\u001b[0m                            Traceback (most recent call last)",
            "\u001b[0;32m<ipython-input-35-a97c7c58fdb4>\u001b[0m in \u001b[0;36m<module>\u001b[0;34m\u001b[0m\n\u001b[1;32m     22\u001b[0m \u001b[0msecond\u001b[0m\u001b[0;34m.\u001b[0m\u001b[0mnext\u001b[0m \u001b[0;34m=\u001b[0m \u001b[0mthird\u001b[0m\u001b[0;34m\u001b[0m\u001b[0;34m\u001b[0m\u001b[0m\n\u001b[1;32m     23\u001b[0m \u001b[0;34m\u001b[0m\u001b[0m\n\u001b[0;32m---> 24\u001b[0;31m \u001b[0mllist\u001b[0m\u001b[0;34m.\u001b[0m\u001b[0mprintList\u001b[0m\u001b[0;34m(\u001b[0m\u001b[0;34m)\u001b[0m\u001b[0;34m\u001b[0m\u001b[0;34m\u001b[0m\u001b[0m\n\u001b[0m",
            "\u001b[0;31mAttributeError\u001b[0m: 'LinkedList' object has no attribute 'printList'"
          ]
        }
      ]
    },
    {
      "cell_type": "code",
      "source": [],
      "metadata": {
        "id": "RfjLJURpTc72"
      },
      "execution_count": null,
      "outputs": []
    }
  ]
}