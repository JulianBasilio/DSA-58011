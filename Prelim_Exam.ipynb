{
  "nbformat": 4,
  "nbformat_minor": 0,
  "metadata": {
    "colab": {
      "provenance": [],
      "authorship_tag": "ABX9TyOQrgSGBm+zaiyD7nGXgHPR",
      "include_colab_link": true
    },
    "kernelspec": {
      "name": "python3",
      "display_name": "Python 3"
    },
    "language_info": {
      "name": "python"
    }
  },
  "cells": [
    {
      "cell_type": "markdown",
      "metadata": {
        "id": "view-in-github",
        "colab_type": "text"
      },
      "source": [
        "<a href=\"https://colab.research.google.com/github/JulianBasilio/DSA-58011/blob/main/Prelim_Exam.ipynb\" target=\"_parent\"><img src=\"https://colab.research.google.com/assets/colab-badge.svg\" alt=\"Open In Colab\"/></a>"
      ]
    },
    {
      "cell_type": "code",
      "execution_count": 21,
      "metadata": {
        "colab": {
          "base_uri": "https://localhost:8080/"
        },
        "id": "yo4gqfX3ymKa",
        "outputId": "18dce7ee-aa68-4ae3-e42e-34701a34b6d3"
      },
      "outputs": [
        {
          "output_type": "stream",
          "name": "stdout",
          "text": [
            "6\n",
            "[2, 3, 4, 5, 6, 7, 8, 9, 10]\n"
          ]
        }
      ],
      "source": [
        "numbers = [4,6, 7, 8, 9, 10]\n",
        "print(len(numbers)) #prints count of composite numbers\n",
        "numbers.append(2) #appends positive integers less than 10 but greater than 1 \n",
        "numbers.append(3)\n",
        "numbers.append(5)\n",
        "numbers.sort() #sorts list in order from lowest to highest)\n",
        "print(numbers) #prints positive integers  \n"
      ]
    },
    {
      "cell_type": "code",
      "source": [],
      "metadata": {
        "id": "GG1kxW9zzLhj"
      },
      "execution_count": null,
      "outputs": []
    }
  ]
}