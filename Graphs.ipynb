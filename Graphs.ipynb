{
  "nbformat": 4,
  "nbformat_minor": 0,
  "metadata": {
    "colab": {
      "provenance": [],
      "authorship_tag": "ABX9TyNiEHFx+ZMLoUsPXH/i0x9B",
      "include_colab_link": true
    },
    "kernelspec": {
      "name": "python3",
      "display_name": "Python 3"
    },
    "language_info": {
      "name": "python"
    }
  },
  "cells": [
    {
      "cell_type": "markdown",
      "metadata": {
        "id": "view-in-github",
        "colab_type": "text"
      },
      "source": [
        "<a href=\"https://colab.research.google.com/github/JulianBasilio/DSA-58011/blob/main/Graphs.ipynb\" target=\"_parent\"><img src=\"https://colab.research.google.com/assets/colab-badge.svg\" alt=\"Open In Colab\"/></a>"
      ]
    },
    {
      "cell_type": "code",
      "execution_count": 11,
      "metadata": {
        "colab": {
          "base_uri": "https://localhost:8080/"
        },
        "id": "-kKNVUYRoEzE",
        "outputId": "61d2f8f9-9614-4bdf-f543-7592d6cf29c9"
      },
      "outputs": [
        {
          "output_type": "stream",
          "name": "stdout",
          "text": [
            "{'1': ['3', '5', '4'], '2': ['4', '5'], '3': ['1'], '4': ['1', '2'], '5': ['1', '2']}\n"
          ]
        }
      ],
      "source": [
        "#Dictionary to implement G21 graph\n",
        "graph = {\n",
        "    '1':[\"3\",\"5\",\"4\"],\n",
        "    '2':[\"4\",\"5\"],\n",
        "    '3':[\"1\"],\n",
        "    '4':[\"1\",'2'],\n",
        "    '5':['1','2']\n",
        "}\n",
        "print(graph)"
      ]
    },
    {
      "cell_type": "code",
      "execution_count": 12,
      "metadata": {
        "colab": {
          "base_uri": "https://localhost:8080/"
        },
        "outputId": "7f8cce83-8257-4c20-9f52-efc6d4aeb41b",
        "id": "c35bpeFcrd1c"
      },
      "outputs": [
        {
          "output_type": "stream",
          "name": "stdout",
          "text": [
            "{'1': ['4', '2'], '2': ['1', '3', '4'], '3': ['2', '4'], '4': ['1', '2', '3']}\n"
          ]
        }
      ],
      "source": [
        "#Dictionary to implement G20 graph\n",
        "graph = {\n",
        "    '1':[\"4\",\"2\",],\n",
        "    '2':[\"1\",\"3\",\"4\"],\n",
        "    '3':[\"2\",'4'],\n",
        "    '4':[\"1\",'2',\"3\"]\n",
        "}\n",
        "print(graph)"
      ]
    },
    {
      "cell_type": "code",
      "source": [
        "#Dictionary to implement G19 graph\n",
        "graph = {\n",
        "    '1':[\"2\",\"3\",\"4,\"\"5\"],\n",
        "    '2':[\"1\",\"3\",\"4,\"\"5\"],\n",
        "    '3':[\"1\",\"2\",\"4,\"\"5\"],\n",
        "    '4':[\"1\",\"2\",\"3,\"\"5\"],\n",
        "    '5':['1','2','3','4']\n",
        "}\n",
        "print(graph)"
      ],
      "metadata": {
        "colab": {
          "base_uri": "https://localhost:8080/"
        },
        "id": "kp7v-GAqsH2d",
        "outputId": "3a3c264c-af46-4076-b351-35ae8d5c1794"
      },
      "execution_count": 14,
      "outputs": [
        {
          "output_type": "stream",
          "name": "stdout",
          "text": [
            "{'1': ['2', '3', '4,5'], '2': ['1', '3', '4,5'], '3': ['1', '2', '4,5'], '4': ['1', '2', '3,5'], '5': ['1', '2', '3', '4']}\n"
          ]
        }
      ]
    },
    {
      "cell_type": "code",
      "source": [],
      "metadata": {
        "id": "myr3gyAXsfn0"
      },
      "execution_count": null,
      "outputs": []
    }
  ]
}