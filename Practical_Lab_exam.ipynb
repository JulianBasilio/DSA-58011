{
  "nbformat": 4,
  "nbformat_minor": 0,
  "metadata": {
    "colab": {
      "name": "Practical Lab exam.ipynb",
      "provenance": [],
      "authorship_tag": "ABX9TyOdfhqAhOn3x5OfoXlgqo2M",
      "include_colab_link": true
    },
    "kernelspec": {
      "name": "python3",
      "display_name": "Python 3"
    },
    "language_info": {
      "name": "python"
    }
  },
  "cells": [
    {
      "cell_type": "markdown",
      "metadata": {
        "id": "view-in-github",
        "colab_type": "text"
      },
      "source": [
        "<a href=\"https://colab.research.google.com/github/JulianBasilio/DSA-58011/blob/main/Practical_Lab_exam.ipynb\" target=\"_parent\"><img src=\"https://colab.research.google.com/assets/colab-badge.svg\" alt=\"Open In Colab\"/></a>"
      ]
    },
    {
      "cell_type": "code",
      "execution_count": 1,
      "metadata": {
        "colab": {
          "base_uri": "https://localhost:8080/"
        },
        "id": "k5907d2KW3N6",
        "outputId": "6b64ac32-9c37-45f2-e041-19bad7278389"
      },
      "outputs": [
        {
          "output_type": "stream",
          "name": "stdout",
          "text": [
            "List of test scores:  [26, 49, 98, 87, 62, 75]\n",
            "Test scores that are odd numbers:  [49, 87, 75]\n",
            "Sum of Odd test scores:  211\n"
          ]
        }
      ],
      "source": [
        "list= [26,49,98,87,62,75]\n",
        "even = []\n",
        "odd = []\n",
        "for number in list:\n",
        "    if number % 2==0:               #if else statement to determine odd and even numbers\n",
        "        even.append(number)\n",
        "    else:\n",
        "        odd.append(number)\n",
        "#displays the output of the following: Test scores, List of odd test scores, and Sum of the odd test scores\n",
        "print(\"List of test scores: \",list)\n",
        "print(\"Test scores that are odd numbers: \",odd)\n",
        "print(\"Sum of Odd test scores: \",sum(odd))\n"
      ]
    }
  ]
}